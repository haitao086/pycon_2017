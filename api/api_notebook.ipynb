{
 "cells": [
  {
   "cell_type": "markdown",
   "metadata": {
    "collapsed": true
   },
   "source": [
    "## APIs"
   ]
  },
  {
   "cell_type": "markdown",
   "metadata": {
    "collapsed": true
   },
   "source": [
    "Let's start by looking at [OMDb API](https://www.omdbapi.com/).\n",
    "\n",
    "The OMDb API is a free web service to obtain movie information, all content and images on the site are contributed and maintained by users.\n",
    "\n",
    "The Python package [urllib](https://docs.python.org/3/howto/urllib2.html) can be used to fetch resources from the internet.\n",
    "\n",
    "OMDb tells us what kinds of requests we can make. We are going to do a title search. As you can see below, we have an additional parameter \"&Season=1\" which does not appear in the parameter tables. If you read through the change log, you will see it documented there. \n",
    "\n",
    "Using the urllib and json packages allow us to call an API and store the results locally."
   ]
  },
  {
   "cell_type": "code",
   "execution_count": 1,
   "metadata": {
    "collapsed": true,
    "pycharm": {
     "is_executing": false
    }
   },
   "outputs": [],
   "source": [
    "import json\n",
    "import urllib.request"
   ]
  },
  {
   "cell_type": "code",
   "execution_count": 7,
   "metadata": {
    "collapsed": true,
    "pycharm": {
     "is_executing": false
    }
   },
   "outputs": [],
   "source": [
    "data = json.loads(urllib.request.urlopen('http://www.omdbapi.com/?t=Game%20of%20Thrones&Season=1&apikey=1f614571').read().decode('utf8'))"
   ]
  },
  {
   "cell_type": "markdown",
   "metadata": {},
   "source": [
    "What should we expect the type to be for the variable data?"
   ]
  },
  {
   "cell_type": "code",
   "execution_count": 8,
   "metadata": {
    "pycharm": {
     "is_executing": false
    }
   },
   "outputs": [
    {
     "name": "stdout",
     "text": [
      "<class 'dict'>\n"
     ],
     "output_type": "stream"
    }
   ],
   "source": [
    "print(type(data))"
   ]
  },
  {
   "cell_type": "markdown",
   "metadata": {},
   "source": [
    "What do you think the data will look like?"
   ]
  },
  {
   "cell_type": "code",
   "execution_count": 9,
   "metadata": {
    "pycharm": {
     "is_executing": false
    }
   },
   "outputs": [
    {
     "data": {
      "text/plain": "dict_keys(['Title', 'Season', 'totalSeasons', 'Episodes', 'Response'])"
     },
     "metadata": {},
     "output_type": "execute_result",
     "execution_count": 9
    }
   ],
   "source": [
    "data.keys()"
   ]
  },
  {
   "cell_type": "code",
   "execution_count": 10,
   "metadata": {
    "pycharm": {
     "is_executing": false
    }
   },
   "outputs": [
    {
     "data": {
      "text/plain": "{'Title': 'Game of Thrones',\n 'Season': '1',\n 'totalSeasons': '8',\n 'Episodes': [{'Title': 'Winter Is Coming',\n   'Released': '2011-04-17',\n   'Episode': '1',\n   'imdbRating': '9.0',\n   'imdbID': 'tt1480055'},\n  {'Title': 'The Kingsroad',\n   'Released': '2011-04-24',\n   'Episode': '2',\n   'imdbRating': '8.8',\n   'imdbID': 'tt1668746'},\n  {'Title': 'Lord Snow',\n   'Released': '2011-05-01',\n   'Episode': '3',\n   'imdbRating': '8.7',\n   'imdbID': 'tt1829962'},\n  {'Title': 'Cripples, Bastards, and Broken Things',\n   'Released': '2011-05-08',\n   'Episode': '4',\n   'imdbRating': '8.8',\n   'imdbID': 'tt1829963'},\n  {'Title': 'The Wolf and the Lion',\n   'Released': '2011-05-15',\n   'Episode': '5',\n   'imdbRating': '9.1',\n   'imdbID': 'tt1829964'},\n  {'Title': 'A Golden Crown',\n   'Released': '2011-05-22',\n   'Episode': '6',\n   'imdbRating': '9.2',\n   'imdbID': 'tt1837862'},\n  {'Title': 'You Win or You Die',\n   'Released': '2011-05-29',\n   'Episode': '7',\n   'imdbRating': '9.2',\n   'imdbID': 'tt1837863'},\n  {'Title': 'The Pointy End',\n   'Released': '2011-06-05',\n   'Episode': '8',\n   'imdbRating': '9.0',\n   'imdbID': 'tt1837864'},\n  {'Title': 'Baelor',\n   'Released': '2011-06-12',\n   'Episode': '9',\n   'imdbRating': '9.6',\n   'imdbID': 'tt1851398'},\n  {'Title': 'Fire and Blood',\n   'Released': '2011-06-19',\n   'Episode': '10',\n   'imdbRating': '9.5',\n   'imdbID': 'tt1851397'}],\n 'Response': 'True'}"
     },
     "metadata": {},
     "output_type": "execute_result",
     "execution_count": 10
    }
   ],
   "source": [
    "data"
   ]
  },
  {
   "cell_type": "markdown",
   "metadata": {},
   "source": [
    "We now have a dictionary object of our data. We can use python to manipulate it in a variety of ways. For example, we can print all the titles of the episodes."
   ]
  },
  {
   "cell_type": "code",
   "execution_count": 11,
   "metadata": {
    "pycharm": {
     "is_executing": false
    }
   },
   "outputs": [
    {
     "name": "stdout",
     "text": [
      "Winter Is Coming 9.0\nThe Kingsroad 8.8\nLord Snow 8.7\nCripples, Bastards, and Broken Things 8.8\nThe Wolf and the Lion 9.1\nA Golden Crown 9.2\nYou Win or You Die 9.2\nThe Pointy End 9.0\nBaelor 9.6\nFire and Blood 9.5\n"
     ],
     "output_type": "stream"
    }
   ],
   "source": [
    "for episode in data['Episodes']:\n",
    "  print(episode['Title'], episode['imdbRating'])"
   ]
  },
  {
   "cell_type": "markdown",
   "metadata": {},
   "source": [
    "We can use pandas to convert the episode information to a dataframe."
   ]
  },
  {
   "cell_type": "code",
   "execution_count": 13,
   "metadata": {
    "collapsed": true,
    "pycharm": {
     "is_executing": false
    }
   },
   "outputs": [],
   "source": [
    "import pandas as pd\n",
    "\n",
    "df = pd.DataFrame.from_dict(data['Episodes'])"
   ]
  },
  {
   "cell_type": "code",
   "execution_count": 14,
   "metadata": {
    "pycharm": {
     "is_executing": false
    }
   },
   "outputs": [
    {
     "data": {
      "text/plain": "                                   Title    Released Episode imdbRating  \\\n0                       Winter Is Coming  2011-04-17       1        9.0   \n1                          The Kingsroad  2011-04-24       2        8.8   \n2                              Lord Snow  2011-05-01       3        8.7   \n3  Cripples, Bastards, and Broken Things  2011-05-08       4        8.8   \n4                  The Wolf and the Lion  2011-05-15       5        9.1   \n5                         A Golden Crown  2011-05-22       6        9.2   \n6                     You Win or You Die  2011-05-29       7        9.2   \n7                         The Pointy End  2011-06-05       8        9.0   \n8                                 Baelor  2011-06-12       9        9.6   \n9                         Fire and Blood  2011-06-19      10        9.5   \n\n      imdbID  \n0  tt1480055  \n1  tt1668746  \n2  tt1829962  \n3  tt1829963  \n4  tt1829964  \n5  tt1837862  \n6  tt1837863  \n7  tt1837864  \n8  tt1851398  \n9  tt1851397  ",
      "text/html": "<div>\n<style scoped>\n    .dataframe tbody tr th:only-of-type {\n        vertical-align: middle;\n    }\n\n    .dataframe tbody tr th {\n        vertical-align: top;\n    }\n\n    .dataframe thead th {\n        text-align: right;\n    }\n</style>\n<table border=\"1\" class=\"dataframe\">\n  <thead>\n    <tr style=\"text-align: right;\">\n      <th></th>\n      <th>Title</th>\n      <th>Released</th>\n      <th>Episode</th>\n      <th>imdbRating</th>\n      <th>imdbID</th>\n    </tr>\n  </thead>\n  <tbody>\n    <tr>\n      <th>0</th>\n      <td>Winter Is Coming</td>\n      <td>2011-04-17</td>\n      <td>1</td>\n      <td>9.0</td>\n      <td>tt1480055</td>\n    </tr>\n    <tr>\n      <th>1</th>\n      <td>The Kingsroad</td>\n      <td>2011-04-24</td>\n      <td>2</td>\n      <td>8.8</td>\n      <td>tt1668746</td>\n    </tr>\n    <tr>\n      <th>2</th>\n      <td>Lord Snow</td>\n      <td>2011-05-01</td>\n      <td>3</td>\n      <td>8.7</td>\n      <td>tt1829962</td>\n    </tr>\n    <tr>\n      <th>3</th>\n      <td>Cripples, Bastards, and Broken Things</td>\n      <td>2011-05-08</td>\n      <td>4</td>\n      <td>8.8</td>\n      <td>tt1829963</td>\n    </tr>\n    <tr>\n      <th>4</th>\n      <td>The Wolf and the Lion</td>\n      <td>2011-05-15</td>\n      <td>5</td>\n      <td>9.1</td>\n      <td>tt1829964</td>\n    </tr>\n    <tr>\n      <th>5</th>\n      <td>A Golden Crown</td>\n      <td>2011-05-22</td>\n      <td>6</td>\n      <td>9.2</td>\n      <td>tt1837862</td>\n    </tr>\n    <tr>\n      <th>6</th>\n      <td>You Win or You Die</td>\n      <td>2011-05-29</td>\n      <td>7</td>\n      <td>9.2</td>\n      <td>tt1837863</td>\n    </tr>\n    <tr>\n      <th>7</th>\n      <td>The Pointy End</td>\n      <td>2011-06-05</td>\n      <td>8</td>\n      <td>9.0</td>\n      <td>tt1837864</td>\n    </tr>\n    <tr>\n      <th>8</th>\n      <td>Baelor</td>\n      <td>2011-06-12</td>\n      <td>9</td>\n      <td>9.6</td>\n      <td>tt1851398</td>\n    </tr>\n    <tr>\n      <th>9</th>\n      <td>Fire and Blood</td>\n      <td>2011-06-19</td>\n      <td>10</td>\n      <td>9.5</td>\n      <td>tt1851397</td>\n    </tr>\n  </tbody>\n</table>\n</div>"
     },
     "metadata": {},
     "output_type": "execute_result",
     "execution_count": 14
    }
   ],
   "source": [
    "df"
   ]
  },
  {
   "cell_type": "markdown",
   "metadata": {},
   "source": [
    "And, we can save our data locally to use later."
   ]
  },
  {
   "cell_type": "code",
   "execution_count": 15,
   "metadata": {
    "pycharm": {
     "is_executing": false
    }
   },
   "outputs": [
    {
     "traceback": [
      "\u001b[0;31m---------------------------------------------------------------------------\u001b[0m",
      "\u001b[0;31mFileNotFoundError\u001b[0m                         Traceback (most recent call last)",
      "\u001b[0;32m<ipython-input-15-7f6de7993313>\u001b[0m in \u001b[0;36m<module>\u001b[0;34m\u001b[0m\n\u001b[0;32m----> 1\u001b[0;31m \u001b[0;32mwith\u001b[0m \u001b[0mopen\u001b[0m\u001b[0;34m(\u001b[0m\u001b[0;34m'tutorial_output/omdb_api_data.json'\u001b[0m\u001b[0;34m,\u001b[0m \u001b[0;34m'w'\u001b[0m\u001b[0;34m)\u001b[0m \u001b[0;32mas\u001b[0m \u001b[0mf\u001b[0m\u001b[0;34m:\u001b[0m\u001b[0;34m\u001b[0m\u001b[0;34m\u001b[0m\u001b[0m\n\u001b[0m\u001b[1;32m      2\u001b[0m     \u001b[0mjson\u001b[0m\u001b[0;34m.\u001b[0m\u001b[0mdump\u001b[0m\u001b[0;34m(\u001b[0m\u001b[0mdata\u001b[0m\u001b[0;34m,\u001b[0m \u001b[0mf\u001b[0m\u001b[0;34m)\u001b[0m\u001b[0;34m\u001b[0m\u001b[0;34m\u001b[0m\u001b[0m\n\u001b[1;32m      3\u001b[0m \u001b[0;34m\u001b[0m\u001b[0m\n",
      "\u001b[0;31mFileNotFoundError\u001b[0m: [Errno 2] No such file or directory: 'tutorial_output/omdb_api_data.json'"
     ],
     "ename": "FileNotFoundError",
     "evalue": "[Errno 2] No such file or directory: 'tutorial_output/omdb_api_data.json'",
     "output_type": "error"
    }
   ],
   "source": [
    "with open('tutorial_output/omdb_api_data.json', 'w') as f:\n",
    "    json.dump(data, f)"
   ]
  },
  {
   "cell_type": "markdown",
   "metadata": {},
   "source": [
    "Let's try an API that requires an API key!\n",
    "\n",
    "\"The [Digital Public Library of America](https://dp.la/) brings together the riches of America’s libraries, archives, and museums, and makes them freely available to the world. It strives to contain the full breadth of human expression, from the written word, to works of art and culture, to records of America’s heritage, to the efforts and data of science.\"\n",
    "\n",
    "And, they have an [API](https://dp.la/info/developers/codex/api-basics/).\n",
    "\n",
    "In order to use the API, you need to [request a key](https://dp.la/info/developers/codex/policies/#get-a-key). You can do this with an HTTP POST request.\n"
   ]
  },
  {
   "cell_type": "markdown",
   "metadata": {},
   "source": [
    "If you are using **OS X or Linux**, replace \"YOUR_EMAIL@example.com\" in the cell below with your email address and execute the cell. This will send the rquest to DPLA and they will email your API key to the email address you provided. To successfully query the API, you must include the ?api_key= parameter with the 32-character hash following."
   ]
  },
  {
   "cell_type": "code",
   "execution_count": 26,
   "metadata": {
    "collapsed": true,
    "pycharm": {
     "is_executing": false
    }
   },
   "outputs": [
    {
     "name": "stdout",
     "text": [
      "*   Trying 34.199.176.60...\r\n* TCP_NODELAY set\r\n",
      "* Connected to api.dp.la (34.199.176.60) port 80 (#0)\r\n> POST /v2/api_key/molds086@gmail.com HTTP/1.1\r\r\n> Host: api.dp.la\r\r\n> User-Agent: curl/7.54.0\r\r\n> Accept: */*\r\r\n> \r\r\n",
      "< HTTP/1.1 200 OK\r\r\n< Date: Sun, 03 Nov 2019 20:19:01 GMT\r\r\n< Content-Type: application/json; charset=utf-8\r\r\n< Content-Length: 48\r\r\n< Connection: keep-alive\r\r\n< Server: nginx/1.16.1\r\r\n< \r\r\n* Connection #0 to host api.dp.la left intact\r\n\"API key created and sent to molds086@gmail.com\""
     ],
     "output_type": "stream"
    }
   ],
   "source": [
    "# execute this on OS X or Linux by removing '#' on the next line and excuting the cell\n",
    "#! curl -v -XPOST http://api.dp.la/v2/api_key/YOUR_EMAIL@example.com\n",
    "! curl -v -XPOST http://api.dp.la/v2/api_key/molds086@gmail.com"
   ]
  },
  {
   "cell_type": "markdown",
   "metadata": {},
   "source": [
    "If you are on **Windows 7 or 10**, [open PowerShell](http://www.tenforums.com/tutorials/25581-windows-powershell-open-windows-10-a.html). Replace \"YOUR_EMAIL@example.com\" in the cell below with your email address. Copy the code and paste it at the command prompt in PowerShell. This will send the rquest to DPLA and they will email your API key to the email address you provided. To successfully query the API, you must include the ?api_key= parameter with the 32-character hash following."
   ]
  },
  {
   "cell_type": "code",
   "execution_count": 17,
   "metadata": {
    "collapsed": true,
    "pycharm": {
     "is_executing": false
    }
   },
   "outputs": [],
   "source": [
    "#execute this on Windows by running the line below, without the leading '#', in PowerShell\n",
    "#Invoke-WebRequest -Uri (\"http://api.dp.la/v2/api_key/YOUR_EMAIL@example.com\") -Method POST -Verbose -usebasicparsing"
   ]
  },
  {
   "cell_type": "markdown",
   "metadata": {},
   "source": [
    "You will get a response similar to what is shown below and will receive an email fairly quickly from DPLA with your key."
   ]
  },
  {
   "cell_type": "markdown",
   "metadata": {},
   "source": [
    "    shell-init: error retrieving current directory: getcwd: cannot access parent directories: No such file or directory\n",
    "    *   Trying 52.2.169.251...\n",
    "    * Connected to api.dp.la (52.2.169.251) port 80 (#0)\n",
    "    > POST /v2/api_key/YOUR_EMAIL@example.com HTTP/1.1\n",
    "    > Host: api.dp.la\n",
    "    > User-Agent: curl/7.43.0\n",
    "    > Accept: */*\n",
    "    > \n",
    "    < HTTP/1.1 201 Created\n",
    "    < Access-Control-Allow-Origin: *\n",
    "    < Cache-Control: max-age=0, private, must-revalidate\n",
    "    < Content-Type: application/json; charset=utf-8\n",
    "    < Date: Thu, 20 Oct 2016 20:53:24 GMT\n",
    "    < ETag: \"8b66d9fe7ded79e3151d5a22f0580d99\"\n",
    "    < Server: nginx/1.1.19\n",
    "    < Status: 201 Created\n",
    "    < X-Request-Id: d61618751a376452ac3540b3157dcf48\n",
    "    < X-Runtime: 0.179920\n",
    "    < X-UA-Compatible: IE=Edge,chrome=1\n",
    "    < Content-Length: 89\n",
    "    < Connection: keep-alive\n",
    "    < \n",
    "    * Connection #0 to host api.dp.la left intact\n",
    "    {\"message\":\"API key created and sent via email. Be sure to check your Spam folder, too.\"}"
   ]
  },
  {
   "cell_type": "markdown",
   "metadata": {},
   "source": [
    "It is good practice not to put your keys in your code. You can store them in a file and read them in from there. If you are pushing your code to GitHub, make sure you put your key files in .gitignore.\n",
    "\n",
    "I created a file on my drive called \"config_secret.json\". The contents of the file look like this:\n",
    "\n",
    "{\n",
    "\t\"api_key\" : \"my api key here\"\n",
    "}\n",
    "\n",
    "I can then write code to read the information in.\n",
    "\n",
    "A template called config_secret_template.json has been provided for you to add your keys to."
   ]
  },
  {
   "cell_type": "code",
   "execution_count": 29,
   "metadata": {
    "collapsed": true,
    "pycharm": {
     "is_executing": false
    }
   },
   "outputs": [],
   "source": [
    "with open(\"./dpla_config_secret.json\") as key_file:\n",
    "    key = json.load(key_file)"
   ]
  },
  {
   "cell_type": "code",
   "execution_count": 31,
   "metadata": {
    "collapsed": true,
    "pycharm": {
     "is_executing": false
    }
   },
   "outputs": [
    {
     "data": {
      "text/plain": "{'api_key': '49a2c83284a71865a8e74a934e56dc20'}"
     },
     "metadata": {},
     "output_type": "execute_result",
     "execution_count": 31
    }
   ],
   "source": [
    "key"
   ]
  },
  {
   "cell_type": "markdown",
   "metadata": {
    "collapsed": true
   },
   "source": [
    "Then, when I create my API query, I can use a variable in place of my actual key.\n",
    "\n",
    "The Requests library allows us to build urls with different parameters. You build the parameters as a dictionary that contains key/value pairs for everything after the '?' in your url."
   ]
  },
  {
   "cell_type": "code",
   "execution_count": 33,
   "metadata": {
    "collapsed": true,
    "pycharm": {
     "is_executing": false
    }
   },
   "outputs": [],
   "source": [
    "import requests"
   ]
  },
  {
   "cell_type": "code",
   "execution_count": 51,
   "metadata": {
    "collapsed": true,
    "pycharm": {
     "is_executing": false
    }
   },
   "outputs": [],
   "source": [
    "# we are specifying our url and parameters here as variables\n",
    "url = 'http://api.dp.la/v2/items/'\n",
    "params = { 'q' : 'goats+AND+cats','api_key' : key['api_key']}\n",
    "# api-key added, still got 404 error, may the data is not there any more"
   ]
  },
  {
   "cell_type": "code",
   "execution_count": 53,
   "metadata": {
    "collapsed": true,
    "pycharm": {
     "is_executing": false
    }
   },
   "outputs": [
    {
     "name": "stdout",
     "text": [
      "http://api.dp.la/v2/items/?q=goats%2BAND%2Bcats&api_key=49a2c83284a71865a8e74a934e56dc20\n"
     ],
     "output_type": "stream"
    }
   ],
   "source": [
    "# we are creating a response object, r\n",
    "r = requests.get(url, params=params)\n",
    "print(r.url)"
   ]
  },
  {
   "cell_type": "code",
   "execution_count": 49,
   "metadata": {
    "collapsed": true,
    "pycharm": {
     "is_executing": false
    }
   },
   "outputs": [
    {
     "data": {
      "text/plain": "requests.models.Response"
     },
     "metadata": {},
     "output_type": "execute_result",
     "execution_count": 49
    }
   ],
   "source": [
    "type(r)"
   ]
  },
  {
   "cell_type": "code",
   "execution_count": 41,
   "metadata": {
    "collapsed": true,
    "pycharm": {
     "is_executing": false
    }
   },
   "outputs": [
    {
     "data": {
      "text/plain": "'http://api.dp.la/v2/items/?api_key=49a2c83284a71865a8e74a934e56dc20&q=goats%2BAND%2Bcats'"
     },
     "metadata": {},
     "output_type": "execute_result",
     "execution_count": 41
    }
   ],
   "source": [
    "# we can look at the url that was created by requests with our specified variables\n",
    "r.url"
   ]
  },
  {
   "cell_type": "code",
   "execution_count": 42,
   "metadata": {
    "collapsed": true,
    "pycharm": {
     "is_executing": false
    }
   },
   "outputs": [
    {
     "data": {
      "text/plain": "404"
     },
     "metadata": {},
     "output_type": "execute_result",
     "execution_count": 42
    }
   ],
   "source": [
    "# we can check the status code of our request\n",
    "r.status_code"
   ]
  },
  {
   "cell_type": "markdown",
   "metadata": {},
   "source": [
    "[HTTP Status Codes](http://www.restapitutorial.com/httpstatuscodes.html)"
   ]
  },
  {
   "cell_type": "code",
   "execution_count": 43,
   "metadata": {
    "collapsed": true,
    "scrolled": true,
    "pycharm": {
     "is_executing": false
    }
   },
   "outputs": [
    {
     "name": "stdout",
     "text": [
      "b'\"Not Found\"'\n"
     ],
     "output_type": "stream"
    }
   ],
   "source": [
    "# we can look at the content of our request\n",
    "print(r.content)"
   ]
  },
  {
   "cell_type": "markdown",
   "metadata": {},
   "source": [
    "By default, DPLA returns 10 items at a time. We can see from the count value, our query has 29 results. DPLA does give us a paramter we can set to change this to get up to 500 items at a time.\n",
    "\n"
   ]
  },
  {
   "cell_type": "code",
   "execution_count": null,
   "metadata": {
    "collapsed": true
   },
   "outputs": [],
   "source": [
    "params = {'api_key' : key['api_key'], 'q' : 'goats+AND+cats', 'page_size': 500}\n",
    "r = requests.get(url, params=params)\n",
    "print(r.content)"
   ]
  },
  {
   "cell_type": "markdown",
   "metadata": {},
   "source": [
    "If we were working with an API that limited us to only 10 items at a time, we could write a loop to pull our data.\n",
    "\n",
    "The file [seeclickfix_api.py](./seeclickfix_api.py) in the api folder of this repo is an example of how you can pull multiple pages of data from an API. It uses the [SeeClickFix API](http://dev.seeclickfix.com/). \"[SeeClickFix](https://seeclickfix.com/) allows you to play an integral role in public services — routing neighborhood concerns like potholes and light outages to the right official with the right information.\""
   ]
  }
 ],
 "metadata": {
  "anaconda-cloud": {},
  "kernelspec": {
   "display_name": "Python [default]",
   "language": "python",
   "name": "python3"
  },
  "language_info": {
   "codemirror_mode": {
    "name": "ipython",
    "version": 3
   },
   "file_extension": ".py",
   "mimetype": "text/x-python",
   "name": "python",
   "nbconvert_exporter": "python",
   "pygments_lexer": "ipython3",
   "version": "3.5.3"
  },
  "pycharm": {
   "stem_cell": {
    "cell_type": "raw",
    "source": [],
    "metadata": {
     "collapsed": false
    }
   }
  }
 },
 "nbformat": 4,
 "nbformat_minor": 1
}